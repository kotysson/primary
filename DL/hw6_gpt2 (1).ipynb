{
  "cells": [
    {
      "cell_type": "code",
      "execution_count": null,
      "metadata": {
        "collapsed": true,
        "id": "xPyAigTTQ7Cx",
        "scrolled": true,
        "colab": {
          "base_uri": "https://localhost:8080/"
        },
        "outputId": "1c3021c6-dd6f-4c75-8c6e-2c12cda993d9"
      },
      "outputs": [
        {
          "output_type": "stream",
          "name": "stdout",
          "text": [
            "Requirement already satisfied: datasets in /usr/local/lib/python3.10/dist-packages (3.2.0)\n",
            "Requirement already satisfied: filelock in /usr/local/lib/python3.10/dist-packages (from datasets) (3.16.1)\n",
            "Requirement already satisfied: numpy>=1.17 in /usr/local/lib/python3.10/dist-packages (from datasets) (1.26.4)\n",
            "Requirement already satisfied: pyarrow>=15.0.0 in /usr/local/lib/python3.10/dist-packages (from datasets) (17.0.0)\n",
            "Requirement already satisfied: dill<0.3.9,>=0.3.0 in /usr/local/lib/python3.10/dist-packages (from datasets) (0.3.8)\n",
            "Requirement already satisfied: pandas in /usr/local/lib/python3.10/dist-packages (from datasets) (2.2.2)\n",
            "Requirement already satisfied: requests>=2.32.2 in /usr/local/lib/python3.10/dist-packages (from datasets) (2.32.3)\n",
            "Requirement already satisfied: tqdm>=4.66.3 in /usr/local/lib/python3.10/dist-packages (from datasets) (4.66.6)\n",
            "Requirement already satisfied: xxhash in /usr/local/lib/python3.10/dist-packages (from datasets) (3.5.0)\n",
            "Requirement already satisfied: multiprocess<0.70.17 in /usr/local/lib/python3.10/dist-packages (from datasets) (0.70.16)\n",
            "Requirement already satisfied: fsspec<=2024.9.0,>=2023.1.0 in /usr/local/lib/python3.10/dist-packages (from fsspec[http]<=2024.9.0,>=2023.1.0->datasets) (2024.9.0)\n",
            "Requirement already satisfied: aiohttp in /usr/local/lib/python3.10/dist-packages (from datasets) (3.11.10)\n",
            "Requirement already satisfied: huggingface-hub>=0.23.0 in /usr/local/lib/python3.10/dist-packages (from datasets) (0.26.5)\n",
            "Requirement already satisfied: packaging in /usr/local/lib/python3.10/dist-packages (from datasets) (24.2)\n",
            "Requirement already satisfied: pyyaml>=5.1 in /usr/local/lib/python3.10/dist-packages (from datasets) (6.0.2)\n",
            "Requirement already satisfied: aiohappyeyeballs>=2.3.0 in /usr/local/lib/python3.10/dist-packages (from aiohttp->datasets) (2.4.4)\n",
            "Requirement already satisfied: aiosignal>=1.1.2 in /usr/local/lib/python3.10/dist-packages (from aiohttp->datasets) (1.3.1)\n",
            "Requirement already satisfied: async-timeout<6.0,>=4.0 in /usr/local/lib/python3.10/dist-packages (from aiohttp->datasets) (4.0.3)\n",
            "Requirement already satisfied: attrs>=17.3.0 in /usr/local/lib/python3.10/dist-packages (from aiohttp->datasets) (24.2.0)\n",
            "Requirement already satisfied: frozenlist>=1.1.1 in /usr/local/lib/python3.10/dist-packages (from aiohttp->datasets) (1.5.0)\n",
            "Requirement already satisfied: multidict<7.0,>=4.5 in /usr/local/lib/python3.10/dist-packages (from aiohttp->datasets) (6.1.0)\n",
            "Requirement already satisfied: propcache>=0.2.0 in /usr/local/lib/python3.10/dist-packages (from aiohttp->datasets) (0.2.1)\n",
            "Requirement already satisfied: yarl<2.0,>=1.17.0 in /usr/local/lib/python3.10/dist-packages (from aiohttp->datasets) (1.18.3)\n",
            "Requirement already satisfied: typing-extensions>=3.7.4.3 in /usr/local/lib/python3.10/dist-packages (from huggingface-hub>=0.23.0->datasets) (4.12.2)\n",
            "Requirement already satisfied: charset-normalizer<4,>=2 in /usr/local/lib/python3.10/dist-packages (from requests>=2.32.2->datasets) (3.4.0)\n",
            "Requirement already satisfied: idna<4,>=2.5 in /usr/local/lib/python3.10/dist-packages (from requests>=2.32.2->datasets) (3.10)\n",
            "Requirement already satisfied: urllib3<3,>=1.21.1 in /usr/local/lib/python3.10/dist-packages (from requests>=2.32.2->datasets) (2.2.3)\n",
            "Requirement already satisfied: certifi>=2017.4.17 in /usr/local/lib/python3.10/dist-packages (from requests>=2.32.2->datasets) (2024.8.30)\n",
            "Requirement already satisfied: python-dateutil>=2.8.2 in /usr/local/lib/python3.10/dist-packages (from pandas->datasets) (2.8.2)\n",
            "Requirement already satisfied: pytz>=2020.1 in /usr/local/lib/python3.10/dist-packages (from pandas->datasets) (2024.2)\n",
            "Requirement already satisfied: tzdata>=2022.7 in /usr/local/lib/python3.10/dist-packages (from pandas->datasets) (2024.2)\n",
            "Requirement already satisfied: six>=1.5 in /usr/local/lib/python3.10/dist-packages (from python-dateutil>=2.8.2->pandas->datasets) (1.17.0)\n"
          ]
        }
      ],
      "source": [
        "!pip install datasets\n",
        "from datasets import load_dataset\n",
        "\n",
        "import torch\n",
        "from torch.utils.data import Dataset, DataLoader\n",
        "\n",
        "from transformers import GPT2Tokenizer, GPT2LMHeadModel, DataCollatorWithPadding, AdamW, get_linear_schedule_with_warmup as WarmupLinearSchedule\n",
        "\n",
        "import os\n",
        "\n",
        "# загружаем датасет с hugginface\n",
        "dataset = load_dataset(\"allenai/sciq\")\n",
        "train_dataset = dataset['train']\n",
        "\n",
        "device = 'cpu'\n",
        "if torch.cuda.is_available():\n",
        "    device = 'cuda'"
      ]
    },
    {
      "cell_type": "code",
      "execution_count": null,
      "metadata": {
        "collapsed": true,
        "id": "W0jbfBCiQ7C0"
      },
      "outputs": [],
      "source": [
        "tokenizer = GPT2Tokenizer.from_pretrained('gpt2-medium')\n",
        "# добавляем токен для паддинга, чтобы выровнять наши текстовые последовательности\n",
        "# иначе возникает ошибка\n",
        "tokenizer.add_special_tokens({\"pad_token\": \"<|pad|>\"})\n",
        "\n",
        "model = GPT2LMHeadModel.from_pretrained('gpt2-medium')\n",
        "# увеличиваем размер словаря токенизатора\n",
        "model.resize_token_embeddings(len(tokenizer))\n",
        "model.config.pad_token_id = tokenizer.pad_token_id  # Устанавливаем pad_token_id\n",
        "model.config.eos_token_id = tokenizer.eos_token_id  # Устанавливаем eos_token_id для end_of_text\n",
        "model = model.to(device)"
      ]
    },
    {
      "cell_type": "code",
      "source": [
        "# напишем функцию для преобразования датасета в формат, понятный модели\n",
        "def preprocess_function(dataset_row):\n",
        "    question = dataset_row[\"question\"]\n",
        "    correct_answer = dataset_row[\"correct_answer\"]\n",
        "    distractors = f\"DISTRACTORS: {dataset_row['distractor1']} | {dataset_row['distractor2']} | {dataset_row['distractor3']}\"\n",
        "    return f\"QUESTION: {question}\\nANSWER: {correct_answer}\\n{distractors}\\n<|endoftext|>\"\n",
        "\n",
        "train_dataset = train_dataset.map(lambda x: {\"text\": preprocess_function(x)})"
      ],
      "metadata": {
        "id": "dBP-jDU5NeGv"
      },
      "execution_count": null,
      "outputs": []
    },
    {
      "cell_type": "code",
      "source": [
        "# токенизация данных построчно\n",
        "def tokenize_function(dataset_row):\n",
        "    return tokenizer(\n",
        "        dataset_row[\"text\"],\n",
        "        truncation=True,\n",
        "        max_length=MAX_SEQ_LEN,\n",
        "        padding=\"max_length\"\n",
        "    )\n",
        "\n",
        "# обрабатываем весь датасет\n",
        "encoded_dataset = train_dataset.map(tokenize_function, batched=True)"
      ],
      "metadata": {
        "id": "teEDBYbENgP0"
      },
      "execution_count": null,
      "outputs": []
    },
    {
      "cell_type": "code",
      "source": [
        "BATCH_SIZE = 1 # колаб не тянет батч больше 1\n",
        "GRADIENT_ACCUMULATION_STEPS = 8  # пришлось вставить, тк иначе при батче=1 модель совсем плохо обучается\n",
        "EPOCHS = 2\n",
        "LEARNING_RATE = 5e-5\n",
        "WARMUP_STEPS = 10\n",
        "MAX_SEQ_LEN = 256"
      ],
      "metadata": {
        "id": "S-4IYE9hOBYz"
      },
      "execution_count": null,
      "outputs": []
    },
    {
      "cell_type": "code",
      "source": [
        "# преобразуем данные в формат, понятный торчу\n",
        "encoded_dataset = encoded_dataset.remove_columns([\"text\"])\n",
        "encoded_dataset.set_format(type=\"torch\", columns=[\"input_ids\", \"attention_mask\"])\n",
        "\n",
        "data_collator = DataCollatorWithPadding(tokenizer=tokenizer, return_tensors=\"pt\")\n",
        "dataloader = DataLoader(encoded_dataset, batch_size=BATCH_SIZE, shuffle=True, collate_fn=data_collator)"
      ],
      "metadata": {
        "id": "Iup3qxoVNjUV"
      },
      "execution_count": null,
      "outputs": []
    },
    {
      "cell_type": "code",
      "source": [
        "optimizer = AdamW(model.parameters(), lr=LEARNING_RATE)\n",
        "scheduler = torch.optim.lr_scheduler.LinearLR(\n",
        "    optimizer, start_factor=0.1, total_iters=WARMUP_STEPS\n",
        ")\n",
        "\n",
        "models_folder = \"trained_models\"\n",
        "os.makedirs(models_folder, exist_ok=True)"
      ],
      "metadata": {
        "id": "BvjdDs8fNlnQ"
      },
      "execution_count": null,
      "outputs": []
    },
    {
      "cell_type": "code",
      "source": [
        "# начинаем обучение\n",
        "model.train()\n",
        "for epoch in range(EPOCHS):\n",
        "    print(f\"EPOCH {epoch + 1}/{EPOCHS} started\" + \"=\" * 30)\n",
        "    epoch_loss = 0\n",
        "\n",
        "    for step, batch in enumerate(dataloader):\n",
        "        input_ids = batch[\"input_ids\"].to(device)\n",
        "        attention_mask = batch[\"attention_mask\"].to(device)\n",
        "\n",
        "        outputs = model(input_ids, attention_mask=attention_mask, labels=input_ids)\n",
        "        loss = outputs.loss / GRADIENT_ACCUMULATION_STEPS  # делим loss для накопления градиентов\n",
        "        loss.backward()\n",
        "\n",
        "        epoch_loss += loss.item()\n",
        "\n",
        "        # обновляем веса\n",
        "        if (step + 1) % GRADIENT_ACCUMULATION_STEPS == 0:\n",
        "            optimizer.step()\n",
        "            scheduler.step()\n",
        "            optimizer.zero_grad()\n",
        "\n",
        "    print(f\"Epoch {epoch + 1} Loss: {epoch_loss / len(dataloader):.4f}\")\n",
        "\n",
        "    torch.save(model.state_dict(), os.path.join(models_folder, f\"gpt2_medium_sciq_epoch_{epoch + 1}.pt\"))"
      ],
      "metadata": {
        "colab": {
          "base_uri": "https://localhost:8080/"
        },
        "id": "_Ip5rDtTNpK2",
        "outputId": "4c6e1f4b-1d73-4839-92d5-55d65a7d891f"
      },
      "execution_count": null,
      "outputs": [
        {
          "output_type": "stream",
          "name": "stdout",
          "text": [
            "EPOCH 1/2 started==============================\n",
            "Epoch 1 Loss: 0.0789\n",
            "EPOCH 2/2 started==============================\n",
            "Epoch 2 Loss: 0.0332\n"
          ]
        }
      ]
    },
    {
      "cell_type": "code",
      "source": [
        "# тестируем дообученную модель\n",
        "model_path = \"trained_models/gpt2_medium_sciq_epoch_2.pt\"\n",
        "model.load_state_dict(torch.load(model_path))\n",
        "model.eval()\n",
        "\n",
        "test_prompt = \"QUESTION: What is the main theory of the origin of life?\\nANSWER: Evolution theory\\nDISTRACTORS:\"\n",
        "inputs = tokenizer(test_prompt, return_tensors=\"pt\", padding=True, truncation=True).to(device)\n",
        "\n",
        "outputs = model.generate(\n",
        "    inputs[\"input_ids\"],\n",
        "    max_length=100,\n",
        "    temperature=0.7,\n",
        "    top_k=50,\n",
        "    top_p=0.9,\n",
        "    eos_token_id=tokenizer.eos_token_id\n",
        ")\n",
        "\n",
        "generated_text = tokenizer.decode(outputs[0], skip_special_tokens=True)\n",
        "print(\"Generated Text:\", generated_text)\n"
      ],
      "metadata": {
        "colab": {
          "base_uri": "https://localhost:8080/"
        },
        "id": "FJEErnQ61EVc",
        "outputId": "be8c7346-51bd-415c-99b8-04e5ff7e43ff"
      },
      "execution_count": null,
      "outputs": [
        {
          "output_type": "stream",
          "name": "stderr",
          "text": [
            "The attention mask and the pad token id were not set. As a consequence, you may observe unexpected behavior. Please pass your input's `attention_mask` to obtain reliable results.\n",
            "Setting `pad_token_id` to `eos_token_id`:None for open-end generation.\n"
          ]
        },
        {
          "output_type": "stream",
          "name": "stdout",
          "text": [
            "Generated Text: QUESTION: What is the main theory of the origin of life?\n",
            "ANSWER: Evolution theory\n",
            "DISTRACTORS: theory of evolution | theory of matter | theory of energy\n",
            "\n"
          ]
        }
      ]
    },
    {
      "cell_type": "markdown",
      "source": [
        "Теперь GPT способен выдавать дистракторы, но он воспринимает evolution theory theory of evolution как разные понятия, что говорит о проблемах при токенизации?"
      ],
      "metadata": {
        "id": "fdrq5a9TIMuQ"
      }
    },
    {
      "cell_type": "code",
      "source": [],
      "metadata": {
        "id": "g2PCRkErOeF9"
      },
      "execution_count": null,
      "outputs": []
    }
  ],
  "metadata": {
    "accelerator": "GPU",
    "colab": {
      "gpuType": "T4",
      "provenance": []
    },
    "kernelspec": {
      "display_name": "Python 3",
      "name": "python3"
    },
    "language_info": {
      "name": "python"
    }
  },
  "nbformat": 4,
  "nbformat_minor": 0
}